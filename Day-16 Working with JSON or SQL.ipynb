{
 "cells": [
  {
   "cell_type": "code",
   "execution_count": 1,
   "id": "e94a684c-28ce-4287-8ba3-ec858c620d74",
   "metadata": {},
   "outputs": [
    {
     "name": "stderr",
     "output_type": "stream",
     "text": [
      "C:\\Users\\A\\AppData\\Local\\Temp\\ipykernel_6688\\4080736814.py:1: DeprecationWarning: \n",
      "Pyarrow will become a required dependency of pandas in the next major release of pandas (pandas 3.0),\n",
      "(to allow more performant data types, such as the Arrow string type, and better interoperability with other libraries)\n",
      "but was not found to be installed on your system.\n",
      "If this would cause problems for you,\n",
      "please provide us feedback at https://github.com/pandas-dev/pandas/issues/54466\n",
      "        \n",
      "  import pandas as pd\n"
     ]
    }
   ],
   "source": [
    "import pandas as pd"
   ]
  },
  {
   "cell_type": "markdown",
   "id": "f25298ce-3e55-4e6a-9b48-31d42c7d44fc",
   "metadata": {},
   "source": [
    "# Working with JSON"
   ]
  },
  {
   "cell_type": "markdown",
   "id": "0c9d9647-60eb-4dc4-8afa-8795e24d9b66",
   "metadata": {},
   "source": [
    "# To read"
   ]
  },
  {
   "cell_type": "markdown",
   "id": "9c2b923e-ef4e-4149-b6d9-415b19c1885d",
   "metadata": {},
   "source": [
    "**pd.read_json('name-of-file')**"
   ]
  },
  {
   "cell_type": "markdown",
   "id": "33220e91-f5c8-4d5a-9d12-b192db509195",
   "metadata": {},
   "source": [
    "# From URL"
   ]
  },
  {
   "cell_type": "markdown",
   "id": "2de0078f-e45a-408a-99fa-bb02efb5c491",
   "metadata": {},
   "source": [
    "**pd.read_json('paste-the-URL')**"
   ]
  },
  {
   "cell_type": "markdown",
   "id": "97eab714-7b9d-4237-a8d2-3120f3c6cbc4",
   "metadata": {},
   "source": [
    "# Working with SQL"
   ]
  },
  {
   "cell_type": "markdown",
   "id": "00af2b62-8574-48e6-b556-1af2735a776e",
   "metadata": {},
   "source": [
    "**First install - pip install mysql.connector**\n",
    "\n",
    "**import mysql**\n",
    "\n",
    "**Now install XAMPP and after opening start MYSQL and Apache then go to 'phpMyAdmin' and create a new database and upload your SQL file**\n",
    "\n",
    "**conn=mysql.connector.connect(host='localhost',user='root',password='',database='world') //for the sql file named 'world'**\n",
    "\n",
    "**Now to read-**\n",
    "\n",
    "**pd.read_sql_query(\"SELECT * FROM city\",conn)**"
   ]
  },
  {
   "cell_type": "code",
   "execution_count": null,
   "id": "98289f66-aae8-4458-8a81-fea888612b0c",
   "metadata": {},
   "outputs": [],
   "source": []
  }
 ],
 "metadata": {
  "kernelspec": {
   "display_name": "Python 3 (ipykernel)",
   "language": "python",
   "name": "python3"
  },
  "language_info": {
   "codemirror_mode": {
    "name": "ipython",
    "version": 3
   },
   "file_extension": ".py",
   "mimetype": "text/x-python",
   "name": "python",
   "nbconvert_exporter": "python",
   "pygments_lexer": "ipython3",
   "version": "3.12.2"
  }
 },
 "nbformat": 4,
 "nbformat_minor": 5
}
