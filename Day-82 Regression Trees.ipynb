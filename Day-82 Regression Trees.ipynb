{
 "cells": [
  {
   "cell_type": "code",
   "execution_count": 2,
   "id": "a2f139d4-2a21-41f6-b323-dc3fca63898c",
   "metadata": {},
   "outputs": [],
   "source": [
    "# import pandas as pd\n",
    "# from pandas_datareader import data\n",
    "# import numpy as np\n",
    "# from sklearn.tree import DecisionTreeRegressor\n",
    "# from sklearn.model_selection import train_test_split\n",
    "# from sklearn import metrics\n",
    "# from sklearn.metrics import r2_score\n",
    "# from sklearn.datasets import load_boston\n",
    "# from sklearn.model_selection import GridSearchCV\n",
    "\n",
    "# boston = load_boston()\n",
    "# df = pd.DataFrame(boston.data)\n",
    "\n",
    "# df.columns = boston.feature_names\n",
    "# df['MEDV'] = boston.target\n",
    "\n",
    "# df.head()\n",
    "\n",
    "# X = df.iloc[:,0:13]\n",
    "# y = df.iloc[:,13]\n",
    "\n",
    "# X_train, X_test, y_train, y_test = train_test_split(X, y, test_size=0.2,random_state=42)\n",
    "\n",
    "# rt = DecisionTreeRegressor(criterion = 'mse', max_depth=5)\n",
    "\n",
    "# rt.fit(X_train,y_train)\n",
    "\n",
    "# y_pred = rt.predict(X_test)\n",
    "\n",
    "# r2_score(y_test,y_pred)"
   ]
  },
  {
   "cell_type": "markdown",
   "id": "6eba06bf-1ea4-4470-832a-41bc7742f5c2",
   "metadata": {},
   "source": [
    "# Hyperparameter Tuning"
   ]
  },
  {
   "cell_type": "code",
   "execution_count": 15,
   "id": "e0c6f8c9-2644-4e63-b91b-d864a5f74b20",
   "metadata": {},
   "outputs": [],
   "source": [
    "# param_grid = {\n",
    "#     'max_depth':[2,4,8,10,None],\n",
    "#     'criterion':['mse','mae'],\n",
    "#     'max_features':[0.25,0.5,1.0],\n",
    "#     'min_samples_split':[0.25,0.5,1.0]\n",
    "# }\n",
    "\n",
    "# reg = GridSearchCV(DecisionTreeRegressor(),param_grid=param_grid)\n",
    "\n",
    "# reg.fit(X_train,y_train)\n",
    "\n",
    "# reg.best_score_\n",
    "\n",
    "# reg.best_params_"
   ]
  },
  {
   "cell_type": "markdown",
   "id": "55a27267-6f98-49cf-8da2-9a3ce3c81fa5",
   "metadata": {},
   "source": [
    "# Feature Importance"
   ]
  },
  {
   "cell_type": "code",
   "execution_count": 16,
   "id": "b338d8f4-d26c-4c96-9fae-969d4c675abf",
   "metadata": {},
   "outputs": [],
   "source": [
    "# for importance, name in sorted(zip(rt.feature_importances_, X_train.columns),reverse=True):\n",
    "  # print (name, importance)"
   ]
  }
 ],
 "metadata": {
  "kernelspec": {
   "display_name": "Python 3 (ipykernel)",
   "language": "python",
   "name": "python3"
  },
  "language_info": {
   "codemirror_mode": {
    "name": "ipython",
    "version": 3
   },
   "file_extension": ".py",
   "mimetype": "text/x-python",
   "name": "python",
   "nbconvert_exporter": "python",
   "pygments_lexer": "ipython3",
   "version": "3.12.2"
  }
 },
 "nbformat": 4,
 "nbformat_minor": 5
}
