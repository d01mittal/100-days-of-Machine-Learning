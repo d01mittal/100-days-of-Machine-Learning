{
 "cells": [
  {
   "cell_type": "code",
   "execution_count": 1,
   "id": "2975e1c2-b809-4707-b40b-e726725855d8",
   "metadata": {},
   "outputs": [],
   "source": [
    "from sklearn.datasets import make_classification\n",
    "from sklearn.model_selection import train_test_split\n",
    "from sklearn.metrics import accuracy_score\n",
    "from sklearn.ensemble import GradientBoostingClassifier\n",
    "import xgboost as xgb\n",
    "import time"
   ]
  },
  {
   "cell_type": "code",
   "execution_count": 2,
   "id": "a8ef6c1d-8aef-424c-97e9-ae7b2bf50f66",
   "metadata": {},
   "outputs": [],
   "source": [
    "# Creating a synthetic dataset\n",
    "X, y=make_classification(n_samples=10000, n_features=200, random_state=42)"
   ]
  },
  {
   "cell_type": "code",
   "execution_count": 3,
   "id": "f916a87f-0c71-4915-ab03-38e747f48024",
   "metadata": {},
   "outputs": [],
   "source": [
    "# Splitting the dataset into training and testing sets\n",
    "X_train, X_test, y_train, y_test=train_test_split(X, y, test_size=0.2, random_state=42)"
   ]
  },
  {
   "cell_type": "code",
   "execution_count": 4,
   "id": "fe3a5e88-a09d-49fe-b2e1-5e0cac59a0ec",
   "metadata": {},
   "outputs": [],
   "source": [
    "# Initializing models\n",
    "gb_model=GradientBoostingClassifier(random_state=42)\n",
    "xgb_model=xgb.XGBClassifier(random_state=42, use_label_encoder=False, eval_metric='logloss')"
   ]
  },
  {
   "cell_type": "code",
   "execution_count": 5,
   "id": "a8365f75-28c1-4093-8b24-aef390cdd934",
   "metadata": {},
   "outputs": [],
   "source": [
    "# Training and evaluating the Scikit-learn Gradient Boosting model\n",
    "start_gb=time.time()\n",
    "gb_model.fit(X_train, y_train)\n",
    "end_gb=time.time()\n",
    "gb_time=end_gb-start_gb"
   ]
  },
  {
   "cell_type": "code",
   "execution_count": 7,
   "id": "8f11434a-54eb-45d7-a32b-cec5819c5ee5",
   "metadata": {},
   "outputs": [],
   "source": [
    "gb_predictions=gb_model.predict(X_test)\n",
    "gb_accuracy=accuracy_score(y_test, gb_predictions)"
   ]
  },
  {
   "cell_type": "code",
   "execution_count": 9,
   "id": "bcae8746-e880-4b21-972f-12c2e466ff8e",
   "metadata": {},
   "outputs": [],
   "source": [
    "# Training and evaluating the XGBoost model\n",
    "start_xgb=time.time()\n",
    "xgb_model.fit(X_train, y_train)\n",
    "end_xgb=time.time()\n",
    "xgb_time=end_xgb-start_xgb"
   ]
  },
  {
   "cell_type": "code",
   "execution_count": 10,
   "id": "f83d5ae6-894e-4293-8864-12529e51e9f0",
   "metadata": {},
   "outputs": [],
   "source": [
    "xgb_predictions=xgb_model.predict(X_test)\n",
    "xgb_accuracy=accuracy_score(y_test, xgb_predictions)"
   ]
  },
  {
   "cell_type": "code",
   "execution_count": 11,
   "id": "32c49090-7442-4d39-bb3e-b32b8ded3119",
   "metadata": {},
   "outputs": [
    {
     "data": {
      "text/plain": [
       "(110.54898381233215, 0.9325, 5.379615783691406, 0.935)"
      ]
     },
     "execution_count": 11,
     "metadata": {},
     "output_type": "execute_result"
    }
   ],
   "source": [
    "gb_time, gb_accuracy, xgb_time, xgb_accuracy"
   ]
  }
 ],
 "metadata": {
  "kernelspec": {
   "display_name": "Python 3 (ipykernel)",
   "language": "python",
   "name": "python3"
  },
  "language_info": {
   "codemirror_mode": {
    "name": "ipython",
    "version": 3
   },
   "file_extension": ".py",
   "mimetype": "text/x-python",
   "name": "python",
   "nbconvert_exporter": "python",
   "pygments_lexer": "ipython3",
   "version": "3.12.2"
  }
 },
 "nbformat": 4,
 "nbformat_minor": 5
}
