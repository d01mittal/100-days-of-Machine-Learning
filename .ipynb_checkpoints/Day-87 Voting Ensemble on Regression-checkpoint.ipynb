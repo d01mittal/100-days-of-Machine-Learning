{
 "cells": [
  {
   "cell_type": "code",
   "execution_count": 3,
   "id": "7abbb81e-9952-4864-8da7-f0431098254f",
   "metadata": {},
   "outputs": [],
   "source": [
    "# from sklearn.datasets import load_boston\n",
    "# import numpy as np\n",
    "\n",
    "# X,y = load_boston(return_X_y=True)\n",
    "\n",
    "# X.shape\n",
    "\n",
    "# y.shape\n",
    "\n",
    "# X\n",
    "\n",
    "# from sklearn.linear_model import LinearRegression\n",
    "# from sklearn.tree import DecisionTreeRegressor\n",
    "# from sklearn.svm import SVR\n",
    "# from sklearn.model_selection import cross_val_score\n",
    "\n",
    "# lr = LinearRegression()\n",
    "# dt = DecisionTreeRegressor()\n",
    "# svr = SVR()\n",
    "\n",
    "# for estimator in estimators:\n",
    "#   scores = cross_val_score(estimator[1],X,y,scoring='r2',cv=10)\n",
    "#   print(estimator[0],np.round(np.mean(scores),2))\n",
    "\n",
    "# from sklearn.ensemble import VotingRegressor\n",
    "\n",
    "# vr = VotingRegressor(estimators)\n",
    "# scores = cross_val_score(vr,X,y,scoring='r2',cv=10)\n",
    "# print(\"Voting Regressor\",np.round(np.mean(scores),2))\n",
    "\n",
    "# for i in range(1,4):\n",
    "#   for j in range(1,4):\n",
    "#     for k in range(1,4):\n",
    "#       vr = VotingRegressor(estimators,weights=[i,j,k])\n",
    "#       scores = cross_val_score(vr,X,y,scoring='r2',cv=10)\n",
    "#       print(\"For i={},j={},k={}\".format(i,j,k),np.round(np.mean(scores),2))\n",
    "\n",
    "# # using the same algorithm\n",
    "\n",
    "# dt1 = DecisionTreeRegressor(max_depth=1)\n",
    "# dt2 = DecisionTreeRegressor(max_depth=3)\n",
    "# dt3 = DecisionTreeRegressor(max_depth=5)\n",
    "# dt4 = DecisionTreeRegressor(max_depth=7)\n",
    "# dt5 = DecisionTreeRegressor(max_depth=None)\n",
    "\n",
    "# estimators = [('dt1',dt1),('dt2',dt2),('dt3',dt3),('dt4',dt4),('dt5',dt5)]\n",
    "\n",
    "# for estimator in estimators:\n",
    "#   scores = cross_val_score(estimator[1],X,y,scoring='r2',cv=10)\n",
    "#   print(estimator[0],np.round(np.mean(scores),2))\n",
    "\n",
    "# vr = VotingRegressor(estimators)\n",
    "# scores = cross_val_score(vr,X,y,scoring='r2',cv=10)\n",
    "# print(\"Voting Regressor\",np.round(np.mean(scores),2))"
   ]
  }
 ],
 "metadata": {
  "kernelspec": {
   "display_name": "Python 3 (ipykernel)",
   "language": "python",
   "name": "python3"
  },
  "language_info": {
   "codemirror_mode": {
    "name": "ipython",
    "version": 3
   },
   "file_extension": ".py",
   "mimetype": "text/x-python",
   "name": "python",
   "nbconvert_exporter": "python",
   "pygments_lexer": "ipython3",
   "version": "3.12.2"
  }
 },
 "nbformat": 4,
 "nbformat_minor": 5
}
